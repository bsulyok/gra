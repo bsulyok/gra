{
 "cells": [
  {
   "attachments": {},
   "cell_type": "markdown",
   "metadata": {},
   "source": [
    "## With default parameters"
   ]
  },
  {
   "cell_type": "code",
   "execution_count": 20,
   "metadata": {},
   "outputs": [],
   "source": [
    "import gra\n",
    "import networkx as nx\n",
    "\n",
    "G = nx.barabasi_albert_graph(100, 2)\n",
    "\n",
    "coords = gra.embed(\n",
    "    G=G,\n",
    "    maxiter=10,\n",
    "    target_function=gra.GreedyRoutingSuccessRate,\n",
    "    state_generator=gra.RandomSampling,\n",
    "    temperature=lambda step: 1/(step),\n",
    "    coords=gra.embedding.random(G),\n",
    "    exclude_neighbours=False,\n",
    "    distance_function=gra.geometry.native_disk_distance,\n",
    ")"
   ]
  },
  {
   "attachments": {},
   "cell_type": "markdown",
   "metadata": {},
   "source": [
    "# Parameters\n",
    "\n",
    "### maxiter\n",
    "number of iterations of the simulated annealing process\n",
    "\n",
    "### target_function\n",
    "embedding quality function to optimize against, currently two possible functions are implemented:\n",
    "- gra.GreedyRoutingSuccessRate\n",
    "- gra.GeometricalCongruence\n",
    "\n",
    "### state_generator\n",
    "\n",
    "a function that generates new states with arbitrary change, currently the following are implemented:\n",
    "- gra.RandomSampling\n",
    "- gra.DegreeDependentSampling\n",
    "- gra.SourceDependentSampling\n",
    "- gra.TargetDependentSampling\n",
    "\n",
    "the latter two are based on the ratio of paths successfully reaching the target from the source,\n",
    "these are not applicable when optimizing for GeometricalCongruence\n",
    "\n",
    "### temperature\n",
    "\n",
    "two possible ways to control the temperature are implemented:\n",
    "- iterable: a array-like of length maxiter which specifies the value of temperature at each time step\n",
    "- callable: a function that takes as input the number of steps completed and returns the temperature\n",
    "\n",
    "### coords\n",
    "\n",
    "initial coordinates, must be a python dictionary with the vertex IDs as keys and 2-dimensional cartesian coordinates as values\n",
    "\n",
    "### exclude_neighbours\n",
    "\n",
    "a binary value specifying whether to exclude neighbour vertices as source-target pairs when calculating the embedding scores\n",
    "\n",
    "### distance_function\n",
    "\n",
    "the distance function used to calculate vertex distances of vertex pairs during the simulation process,\n",
    "we studies only the native disk distance case nevertheless we implemented the following:\n",
    "- gra.geometry.native_disk_distance\n",
    "- gra.geometry.euclidean_distance\n",
    "- gra.geometry.cosine_similarity"
   ]
  },
  {
   "cell_type": "markdown",
   "metadata": {},
   "source": []
  }
 ],
 "metadata": {
  "kernelspec": {
   "display_name": "Python 3",
   "language": "python",
   "name": "python3"
  },
  "language_info": {
   "codemirror_mode": {
    "name": "ipython",
    "version": 3
   },
   "file_extension": ".py",
   "mimetype": "text/x-python",
   "name": "python",
   "nbconvert_exporter": "python",
   "pygments_lexer": "ipython3",
   "version": "3.11.1"
  },
  "orig_nbformat": 4
 },
 "nbformat": 4,
 "nbformat_minor": 2
}
